{
 "cells": [
  {
   "cell_type": "markdown",
   "metadata": {},
   "source": [
    "# Chapter 15 - Processing Sequences using RNNs and CNNs"
   ]
  },
  {
   "cell_type": "markdown",
   "metadata": {},
   "source": [
    "## Setup"
   ]
  },
  {
   "cell_type": "code",
   "execution_count": 1,
   "metadata": {
    "collapsed": true
   },
   "outputs": [],
   "source": [
    "# Python ≥3.5 is required\n",
    "import sys\n",
    "assert sys.version_info >= (3, 5)\n",
    "\n",
    "# Scikit-Learn ≥0.20 is required\n",
    "import sklearn\n",
    "assert sklearn.__version__ >= \"0.20\""
   ]
  },
  {
   "cell_type": "code",
   "execution_count": 2,
   "metadata": {},
   "outputs": [
    {
     "name": "stderr",
     "output_type": "stream",
     "text": [
      "/Users/dongdongdongdong/anaconda3/lib/python3.6/site-packages/tensorflow/python/framework/dtypes.py:523: FutureWarning: Passing (type, 1) or '1type' as a synonym of type is deprecated; in a future version of numpy, it will be understood as (type, (1,)) / '(1,)type'.\n",
      "  _np_qint8 = np.dtype([(\"qint8\", np.int8, 1)])\n",
      "/Users/dongdongdongdong/anaconda3/lib/python3.6/site-packages/tensorflow/python/framework/dtypes.py:524: FutureWarning: Passing (type, 1) or '1type' as a synonym of type is deprecated; in a future version of numpy, it will be understood as (type, (1,)) / '(1,)type'.\n",
      "  _np_quint8 = np.dtype([(\"quint8\", np.uint8, 1)])\n",
      "/Users/dongdongdongdong/anaconda3/lib/python3.6/site-packages/tensorflow/python/framework/dtypes.py:525: FutureWarning: Passing (type, 1) or '1type' as a synonym of type is deprecated; in a future version of numpy, it will be understood as (type, (1,)) / '(1,)type'.\n",
      "  _np_qint16 = np.dtype([(\"qint16\", np.int16, 1)])\n",
      "/Users/dongdongdongdong/anaconda3/lib/python3.6/site-packages/tensorflow/python/framework/dtypes.py:526: FutureWarning: Passing (type, 1) or '1type' as a synonym of type is deprecated; in a future version of numpy, it will be understood as (type, (1,)) / '(1,)type'.\n",
      "  _np_quint16 = np.dtype([(\"quint16\", np.uint16, 1)])\n",
      "/Users/dongdongdongdong/anaconda3/lib/python3.6/site-packages/tensorflow/python/framework/dtypes.py:527: FutureWarning: Passing (type, 1) or '1type' as a synonym of type is deprecated; in a future version of numpy, it will be understood as (type, (1,)) / '(1,)type'.\n",
      "  _np_qint32 = np.dtype([(\"qint32\", np.int32, 1)])\n",
      "/Users/dongdongdongdong/anaconda3/lib/python3.6/site-packages/tensorflow/python/framework/dtypes.py:532: FutureWarning: Passing (type, 1) or '1type' as a synonym of type is deprecated; in a future version of numpy, it will be understood as (type, (1,)) / '(1,)type'.\n",
      "  np_resource = np.dtype([(\"resource\", np.ubyte, 1)])\n"
     ]
    }
   ],
   "source": [
    "# TensorFlow ≥2.0 is required\n",
    "import tensorflow as tf\n",
    "from tensorflow import keras\n",
    "assert tf.__version__ >= \"2.0\""
   ]
  },
  {
   "cell_type": "code",
   "execution_count": 3,
   "metadata": {
    "collapsed": true
   },
   "outputs": [],
   "source": [
    "# Common imports\n",
    "import numpy as np\n",
    "import os\n",
    "from pathlib import Path"
   ]
  },
  {
   "cell_type": "code",
   "execution_count": 4,
   "metadata": {
    "collapsed": true
   },
   "outputs": [],
   "source": [
    "# to make this notebook's output stable across runs\n",
    "np.random.seed(42)\n",
    "tf.random.set_seed(42)"
   ]
  },
  {
   "cell_type": "code",
   "execution_count": 5,
   "metadata": {
    "collapsed": true
   },
   "outputs": [],
   "source": [
    "# To plot pretty figures\n",
    "%matplotlib inline\n",
    "import matplotlib as mpl\n",
    "import matplotlib.pyplot as plt\n",
    "mpl.rc('axes', labelsize=14)\n",
    "mpl.rc('xtick', labelsize=12)\n",
    "mpl.rc('ytick', labelsize=12)\n",
    "\n",
    "# Where to save the figures\n",
    "PROJECT_ROOT_DIR = \".\"\n",
    "CHAPTER_ID = \"rnn\"\n",
    "IMAGES_PATH = os.path.join(PROJECT_ROOT_DIR, \"images\", CHAPTER_ID)\n",
    "os.makedirs(IMAGES_PATH, exist_ok=True)\n",
    "\n",
    "def save_fig(fig_id, tight_layout=True, fig_extension=\"png\", resolution=300):\n",
    "    path = os.path.join(IMAGES_PATH, fig_id + \".\" + fig_extension)\n",
    "    print(\"Saving figure\", fig_id)\n",
    "    if tight_layout:\n",
    "        plt.tight_layout()\n",
    "    plt.savefig(path, format=fig_extension, dpi=resolution)"
   ]
  },
  {
   "cell_type": "markdown",
   "metadata": {},
   "source": [
    "## Basic RNNs"
   ]
  },
  {
   "cell_type": "markdown",
   "metadata": {},
   "source": [
    "### Generate the Dataset:"
   ]
  },
  {
   "cell_type": "code",
   "execution_count": 6,
   "metadata": {
    "collapsed": true
   },
   "outputs": [],
   "source": [
    "def generate_time_series(batch_size, n_steps):\n",
    "    freq1, freq2, offsets1, offsets2 = np.random.rand(4, batch_size, 1)\n",
    "    time = np.linspace(0, 1, n_steps)\n",
    "    series = 0.5 * np.sin((time - offsets1) * (freq1 * 10 + 10)) # wave 1\n",
    "    series += 0.2 * np.sin((time - offsets2) * (freq2 * 20 + 20)) # + wave 2\n",
    "    series += 0.1 * (np.random.rand(batch_size, n_steps) - 0.5) # + noise\n",
    "    return series[..., np.newaxis].astype(np.float32)"
   ]
  },
  {
   "cell_type": "code",
   "execution_count": 7,
   "metadata": {
    "collapsed": true
   },
   "outputs": [],
   "source": [
    "np.random.seed(42)\n",
    "\n",
    "n_steps = 50\n",
    "series = generate_time_series(10000, n_steps=n_steps + 1)"
   ]
  },
  {
   "cell_type": "code",
   "execution_count": 8,
   "metadata": {},
   "outputs": [
    {
     "data": {
      "text/plain": [
       "((7000, 50, 1), (7000, 1))"
      ]
     },
     "execution_count": 8,
     "metadata": {},
     "output_type": "execute_result"
    }
   ],
   "source": [
    "X_train, y_train = series[:7000, :n_steps], series[:7000, -1]\n",
    "X_train.shape, y_train.shape"
   ]
  },
  {
   "cell_type": "code",
   "execution_count": 9,
   "metadata": {
    "collapsed": true
   },
   "outputs": [],
   "source": [
    "X_valid, y_valid = series[7000:9000, :n_steps], series[7000:9000, -1]\n",
    "X_test, y_test = series[9000:, :n_steps], series[9000:, -1]"
   ]
  },
  {
   "cell_type": "code",
   "execution_count": 10,
   "metadata": {
    "collapsed": true
   },
   "outputs": [],
   "source": [
    "def plot_series(series, y=None, y_pred=None, x_label='$t$', y_label='$x(t)$'):\n",
    "    plt.plot(series, '.-')\n",
    "    if y is not None:\n",
    "        plt.plot(n_steps, y, 'bx', markersize=10)\n",
    "    if y_pred is not None:\n",
    "        plt.plot(n_steps, y_pred, 'ro')\n",
    "    plt.grid(True)\n",
    "    \n",
    "    if x_label:\n",
    "        plt.xlabel(x_label, fontsize=16)\n",
    "    if y_label:\n",
    "        plt.ylabel(y_label, fontsize=16, rotation=0)\n",
    "    \n",
    "    plt.hlines(0, 0, 100, linewidth=1)\n",
    "    plt.axis([0, n_steps + 1, -1, 1])"
   ]
  },
  {
   "cell_type": "code",
   "execution_count": 11,
   "metadata": {},
   "outputs": [
    {
     "name": "stdout",
     "output_type": "stream",
     "text": [
      "Saving figure time_series_plot\n"
     ]
    },
    {
     "data": {
      "image/png": "[encoded data removed]",
      "text/plain": [
       "<matplotlib.figure.Figure at 0x7fec71970908>"
      ]
     },
     "metadata": {},
     "output_type": "display_data"
    }
   ],
   "source": [
    "fig, axes = plt.subplots(nrows=1, ncols=3,\n",
    "                         sharey=True, figsize=(12, 4))\n",
    "for col in range(3):\n",
    "    plt.sca(axes[col])\n",
    "    plot_series(X_valid[col, :, 0], y_valid[col, 0],\n",
    "                y_label=('$x(t)$' if col==0 else None))\n",
    "save_fig(\"time_series_plot\")\n",
    "plt.show()"
   ]
  },
  {
   "cell_type": "markdown",
   "metadata": {},
   "source": [
    "## Computing Some Baselines"
   ]
  },
  {
   "cell_type": "markdown",
   "metadata": {},
   "source": [
    "### Naive Predictions (just predict the last observed value):"
   ]
  },
  {
   "cell_type": "code",
   "execution_count": 12,
   "metadata": {},
   "outputs": [
    {
     "data": {
      "text/plain": [
       "0.020211367"
      ]
     },
     "execution_count": 12,
     "metadata": {},
     "output_type": "execute_result"
    }
   ],
   "source": [
    "y_pred = X_valid[:, -1]\n",
    "np.mean(keras.losses.mean_squared_error(y_valid, y_pred))"
   ]
  },
  {
   "cell_type": "code",
   "execution_count": 13,
   "metadata": {},
   "outputs": [
    {
     "data": {
      "image/png": "[encoded data removed]",
      "text/plain": [
       "<matplotlib.figure.Figure at 0x7fec7469f9b0>"
      ]
     },
     "metadata": {},
     "output_type": "display_data"
    }
   ],
   "source": [
    "plot_series(X_valid[0, :, 0], y_valid[0, 0], y_pred[0, 0])\n",
    "plt.show()"
   ]
  },
  {
   "cell_type": "markdown",
   "metadata": {},
   "source": [
    "### Linear Predictions:"
   ]
  },
  {
   "cell_type": "code",
   "execution_count": 14,
   "metadata": {
    "collapsed": true
   },
   "outputs": [],
   "source": [
    "np.random.seed(42)\n",
    "tf.random.set_seed(42)"
   ]
  },
  {
   "cell_type": "code",
   "execution_count": 23,
   "metadata": {
    "collapsed": true
   },
   "outputs": [],
   "source": [
    "model = keras.models.Sequential([\n",
    "    keras.layers.Flatten(input_shape=[50, 1]),\n",
    "    keras.layers.Dense(1)\n",
    "])"
   ]
  },
  {
   "cell_type": "code",
   "execution_count": 25,
   "metadata": {
    "collapsed": true
   },
   "outputs": [],
   "source": [
    "model.compile(loss='mse',\n",
    "              optimizer='adam')"
   ]
  },
  {
   "cell_type": "code",
   "execution_count": 26,
   "metadata": {},
   "outputs": [
    {
     "name": "stdout",
     "output_type": "stream",
     "text": [
      "Train on 7000 samples, validate on 2000 samples\n",
      "Epoch 1/20\n",
      "7000/7000 [==============================] - 0s 51us/sample - loss: 0.1015 - val_loss: 0.0551\n",
      "Epoch 2/20\n",
      "7000/7000 [==============================] - 0s 35us/sample - loss: 0.0384 - val_loss: 0.0267\n",
      "Epoch 3/20\n",
      "7000/7000 [==============================] - 0s 29us/sample - loss: 0.0205 - val_loss: 0.0161\n",
      "Epoch 4/20\n",
      "7000/7000 [==============================] - 0s 29us/sample - loss: 0.0133 - val_loss: 0.0119\n",
      "Epoch 5/20\n",
      "7000/7000 [==============================] - 0s 30us/sample - loss: 0.0104 - val_loss: 0.0099\n",
      "Epoch 6/20\n",
      "7000/7000 [==============================] - 0s 30us/sample - loss: 0.0090 - val_loss: 0.0088\n",
      "Epoch 7/20\n",
      "7000/7000 [==============================] - 0s 30us/sample - loss: 0.0081 - val_loss: 0.0079\n",
      "Epoch 8/20\n",
      "7000/7000 [==============================] - 0s 30us/sample - loss: 0.0073 - val_loss: 0.0074\n",
      "Epoch 9/20\n",
      "7000/7000 [==============================] - 0s 29us/sample - loss: 0.0067 - val_loss: 0.0066\n",
      "Epoch 10/20\n",
      "7000/7000 [==============================] - 0s 28us/sample - loss: 0.0062 - val_loss: 0.0062\n",
      "Epoch 11/20\n",
      "7000/7000 [==============================] - 0s 31us/sample - loss: 0.0058 - val_loss: 0.0058\n",
      "Epoch 12/20\n",
      "7000/7000 [==============================] - 0s 29us/sample - loss: 0.0055 - val_loss: 0.0054\n",
      "Epoch 13/20\n",
      "7000/7000 [==============================] - 0s 30us/sample - loss: 0.0052 - val_loss: 0.0052\n",
      "Epoch 14/20\n",
      "7000/7000 [==============================] - 0s 30us/sample - loss: 0.0050 - val_loss: 0.0050\n",
      "Epoch 15/20\n",
      "7000/7000 [==============================] - 0s 30us/sample - loss: 0.0048 - val_loss: 0.0048\n",
      "Epoch 16/20\n",
      "7000/7000 [==============================] - 0s 30us/sample - loss: 0.0047 - val_loss: 0.0046\n",
      "Epoch 17/20\n",
      "7000/7000 [==============================] - 0s 31us/sample - loss: 0.0045 - val_loss: 0.0047\n",
      "Epoch 18/20\n",
      "7000/7000 [==============================] - 0s 30us/sample - loss: 0.0044 - val_loss: 0.0044\n",
      "Epoch 19/20\n",
      "7000/7000 [==============================] - 0s 30us/sample - loss: 0.0043 - val_loss: 0.0042\n",
      "Epoch 20/20\n",
      "7000/7000 [==============================] - 0s 30us/sample - loss: 0.0042 - val_loss: 0.0042\n"
     ]
    }
   ],
   "source": [
    "history = model.fit(X_train, y_train,\n",
    "                    epochs=20,\n",
    "                    validation_data=(X_valid, y_valid))"
   ]
  },
  {
   "cell_type": "code",
   "execution_count": 27,
   "metadata": {},
   "outputs": [
    {
     "name": "stdout",
     "output_type": "stream",
     "text": [
      "2000/2000 [==============================] - 0s 17us/sample - loss: 0.0042\n"
     ]
    },
    {
     "data": {
      "text/plain": [
       "0.00417404793202877"
      ]
     },
     "execution_count": 27,
     "metadata": {},
     "output_type": "execute_result"
    }
   ],
   "source": [
    "model.evaluate(X_valid, y_valid)"
   ]
  },
  {
   "cell_type": "code",
   "execution_count": 28,
   "metadata": {
    "collapsed": true
   },
   "outputs": [],
   "source": [
    "def plot_learning_curves(loss, val_loss):\n",
    "    plt.plot(np.arange(len(loss)) + 0.5,\n",
    "             loss, 'b.-', label='Training Loss')\n",
    "    plt.plot(np.arange(len(val_loss)) + 1,\n",
    "             val_loss, 'r.-', label='Validation Loss')\n",
    "    plt.gca().xaxis.set_major_locator(mpl.ticker.MaxNLocator(integer=True))\n",
    "    plt.axis([1, 20, 0, 0.05])\n",
    "    plt.legend(fontsize=14)\n",
    "    plt.xlabel('Epochs')\n",
    "    plt.ylabel('Loss')\n",
    "    plt.grid(True)"
   ]
  },
  {
   "cell_type": "code",
   "execution_count": 29,
   "metadata": {},
   "outputs": [
    {
     "data": {
      "image/png": "[encoded data removed]",
      "text/plain": [
       "<matplotlib.figure.Figure at 0x7f9012718eb8>"
      ]
     },
     "metadata": {},
     "output_type": "display_data"
    }
   ],
   "source": [
    "plot_learning_curves(history.history['loss'], history.history['val_loss'])\n",
    "plt.show()"
   ]
  },
  {
   "cell_type": "code",
   "execution_count": 30,
   "metadata": {},
   "outputs": [
    {
     "data": {
      "image/png": "[encoded data removed]",
      "text/plain": [
       "<matplotlib.figure.Figure at 0x7f90126f1dd8>"
      ]
     },
     "metadata": {},
     "output_type": "display_data"
    }
   ],
   "source": [
    "y_pred = model.predict(X_valid)\n",
    "plot_series(X_valid[0, :, 0], y_valid[0, 0], y_pred[0, 0])\n",
    "plt.show()"
   ]
  },
  {
   "cell_type": "markdown",
   "metadata": {},
   "source": [
    "### Using a Simple RNN:"
   ]
  },
  {
   "cell_type": "code",
   "execution_count": 31,
   "metadata": {
    "collapsed": true
   },
   "outputs": [],
   "source": [
    "np.random.seed(42)\n",
    "tf.random.set_seed(42)"
   ]
  },
  {
   "cell_type": "code",
   "execution_count": 32,
   "metadata": {
    "collapsed": true
   },
   "outputs": [],
   "source": [
    "model = keras.models.Sequential([\n",
    "    keras.layers.SimpleRNN(1, input_shape=[None, 1])\n",
    "])"
   ]
  },
  {
   "cell_type": "code",
   "execution_count": 35,
   "metadata": {
    "collapsed": true
   },
   "outputs": [],
   "source": [
    "optimizer = keras.optimizers.Adam(lr=0.005)"
   ]
  },
  {
   "cell_type": "code",
   "execution_count": 36,
   "metadata": {
    "collapsed": true
   },
   "outputs": [],
   "source": [
    "model.compile(loss='mse',\n",
    "              optimizer=optimizer,\n",
    "              metrics=['accuracy'])"
   ]
  },
  {
   "cell_type": "code",
   "execution_count": 37,
   "metadata": {},
   "outputs": [
    {
     "name": "stdout",
     "output_type": "stream",
     "text": [
      "Train on 7000 samples, validate on 2000 samples\n",
      "Epoch 1/20\n",
      "7000/7000 [==============================] - 2s 297us/sample - loss: 0.0960 - accuracy: 0.0000e+00 - val_loss: 0.0482 - val_accuracy: 0.0000e+00\n",
      "Epoch 2/20\n",
      "7000/7000 [==============================] - 2s 247us/sample - loss: 0.0366 - accuracy: 0.0000e+00 - val_loss: 0.0293 - val_accuracy: 0.0000e+00\n",
      "Epoch 3/20\n",
      "7000/7000 [==============================] - 2s 273us/sample - loss: 0.0251 - accuracy: 0.0000e+00 - val_loss: 0.0216 - val_accuracy: 0.0000e+00\n",
      "Epoch 4/20\n",
      "7000/7000 [==============================] - 2s 268us/sample - loss: 0.0196 - accuracy: 0.0000e+00 - val_loss: 0.0175 - val_accuracy: 0.0000e+00\n",
      "Epoch 5/20\n",
      "7000/7000 [==============================] - 2s 247us/sample - loss: 0.0165 - accuracy: 0.0000e+00 - val_loss: 0.0150 - val_accuracy: 0.0000e+00\n",
      "Epoch 6/20\n",
      "7000/7000 [==============================] - 2s 249us/sample - loss: 0.0145 - accuracy: 0.0000e+00 - val_loss: 0.0133 - val_accuracy: 0.0000e+00\n",
      "Epoch 7/20\n",
      "7000/7000 [==============================] - 2s 250us/sample - loss: 0.0132 - accuracy: 0.0000e+00 - val_loss: 0.0123 - val_accuracy: 0.0000e+00\n",
      "Epoch 8/20\n",
      "7000/7000 [==============================] - 2s 252us/sample - loss: 0.0123 - accuracy: 0.0000e+00 - val_loss: 0.0116 - val_accuracy: 0.0000e+00\n",
      "Epoch 9/20\n",
      "7000/7000 [==============================] - 2s 249us/sample - loss: 0.0118 - accuracy: 0.0000e+00 - val_loss: 0.0112 - val_accuracy: 0.0000e+00\n",
      "Epoch 10/20\n",
      "7000/7000 [==============================] - 2s 249us/sample - loss: 0.0116 - accuracy: 0.0000e+00 - val_loss: 0.0110 - val_accuracy: 0.0000e+00\n",
      "Epoch 11/20\n",
      "7000/7000 [==============================] - 2s 249us/sample - loss: 0.0114 - accuracy: 0.0000e+00 - val_loss: 0.0109 - val_accuracy: 0.0000e+00\n",
      "Epoch 12/20\n",
      "7000/7000 [==============================] - 2s 248us/sample - loss: 0.0114 - accuracy: 0.0000e+00 - val_loss: 0.0109 - val_accuracy: 0.0000e+00\n",
      "Epoch 13/20\n",
      "7000/7000 [==============================] - 2s 251us/sample - loss: 0.0114 - accuracy: 0.0000e+00 - val_loss: 0.0109 - val_accuracy: 0.0000e+00\n",
      "Epoch 14/20\n",
      "7000/7000 [==============================] - 2s 297us/sample - loss: 0.0114 - accuracy: 0.0000e+00 - val_loss: 0.0109 - val_accuracy: 0.0000e+00\n",
      "Epoch 15/20\n",
      "7000/7000 [==============================] - 2s 254us/sample - loss: 0.0114 - accuracy: 0.0000e+00 - val_loss: 0.0109 - val_accuracy: 0.0000e+00\n",
      "Epoch 16/20\n",
      "7000/7000 [==============================] - 2s 255us/sample - loss: 0.0114 - accuracy: 0.0000e+00 - val_loss: 0.0109 - val_accuracy: 0.0000e+00\n",
      "Epoch 17/20\n",
      "7000/7000 [==============================] - 2s 250us/sample - loss: 0.0114 - accuracy: 0.0000e+00 - val_loss: 0.0109 - val_accuracy: 0.0000e+00\n",
      "Epoch 18/20\n",
      "7000/7000 [==============================] - 2s 253us/sample - loss: 0.0114 - accuracy: 0.0000e+00 - val_loss: 0.0110 - val_accuracy: 0.0000e+00\n",
      "Epoch 19/20\n",
      "7000/7000 [==============================] - 2s 255us/sample - loss: 0.0114 - accuracy: 0.0000e+00 - val_loss: 0.0109 - val_accuracy: 0.0000e+00\n",
      "Epoch 20/20\n",
      "7000/7000 [==============================] - 2s 257us/sample - loss: 0.0114 - accuracy: 0.0000e+00 - val_loss: 0.0108 - val_accuracy: 0.0000e+00\n"
     ]
    }
   ],
   "source": [
    "history = model.fit(X_train, y_train,\n",
    "                    epochs=20,\n",
    "                    validation_data=(X_valid, y_valid))"
   ]
  },
  {
   "cell_type": "code",
   "execution_count": 38,
   "metadata": {},
   "outputs": [
    {
     "name": "stdout",
     "output_type": "stream",
     "text": [
      "2000/2000 [==============================] - 0s 84us/sample - loss: 0.0108 - accuracy: 0.0000e+00\n"
     ]
    },
    {
     "data": {
      "text/plain": [
       "[0.010848855562508107, 0.0]"
      ]
     },
     "execution_count": 38,
     "metadata": {},
     "output_type": "execute_result"
    }
   ],
   "source": [
    "model.evaluate(X_valid, y_valid)"
   ]
  },
  {
   "cell_type": "code",
   "execution_count": 39,
   "metadata": {},
   "outputs": [
    {
     "data": {
      "image/png": "[encoded data removed]",
      "text/plain": [
       "<matplotlib.figure.Figure at 0x7f9015ccaa58>"
      ]
     },
     "metadata": {},
     "output_type": "display_data"
    }
   ],
   "source": [
    "plot_learning_curves(history.history['loss'], history.history['val_loss'])\n",
    "plt.show()"
   ]
  },
  {
   "cell_type": "code",
   "execution_count": 40,
   "metadata": {},
   "outputs": [
    {
     "data": {
      "image/png": "[encoded data removed]",
      "text/plain": [
       "<matplotlib.figure.Figure at 0x7f901667d470>"
      ]
     },
     "metadata": {},
     "output_type": "display_data"
    }
   ],
   "source": [
    "y_pred = model.predict(X_valid)\n",
    "plot_series(X_valid[0, :, 0], y_valid[0, 0], y_pred[0, 0])\n",
    "plt.show()"
   ]
  },
  {
   "cell_type": "markdown",
   "metadata": {},
   "source": [
    "### Deep RNNs:"
   ]
  },
  {
   "cell_type": "code",
   "execution_count": 41,
   "metadata": {
    "collapsed": true
   },
   "outputs": [],
   "source": [
    "np.random.seed(42)\n",
    "tf.random.set_seed(42)"
   ]
  },
  {
   "cell_type": "code",
   "execution_count": 42,
   "metadata": {
    "collapsed": true
   },
   "outputs": [],
   "source": [
    "model = keras.models.Sequential([\n",
    "    keras.layers.SimpleRNN(20, return_sequences=True,\n",
    "                           input_shape=[None, 1]),\n",
    "    keras.layers.SimpleRNN(20, return_sequences=True),\n",
    "    keras.layers.SimpleRNN(1)\n",
    "])"
   ]
  },
  {
   "cell_type": "code",
   "execution_count": 43,
   "metadata": {
    "collapsed": true
   },
   "outputs": [],
   "source": [
    "model.compile(loss='mse', optimizer='adam')"
   ]
  },
  {
   "cell_type": "code",
   "execution_count": 44,
   "metadata": {},
   "outputs": [
    {
     "name": "stdout",
     "output_type": "stream",
     "text": [
      "Train on 7000 samples, validate on 2000 samples\n",
      "Epoch 1/20\n",
      "7000/7000 [==============================] - 8s 1ms/sample - loss: 0.0502 - val_loss: 0.0093\n",
      "Epoch 2/20\n",
      "7000/7000 [==============================] - 7s 930us/sample - loss: 0.0069 - val_loss: 0.0055\n",
      "Epoch 3/20\n",
      "7000/7000 [==============================] - 6s 920us/sample - loss: 0.0050 - val_loss: 0.0044\n",
      "Epoch 4/20\n",
      "7000/7000 [==============================] - 6s 908us/sample - loss: 0.0048 - val_loss: 0.0040\n",
      "Epoch 5/20\n",
      "7000/7000 [==============================] - 6s 901us/sample - loss: 0.0041 - val_loss: 0.0037\n",
      "Epoch 6/20\n",
      "7000/7000 [==============================] - 6s 894us/sample - loss: 0.0041 - val_loss: 0.0043\n",
      "Epoch 7/20\n",
      "7000/7000 [==============================] - 6s 891us/sample - loss: 0.0038 - val_loss: 0.0036\n",
      "Epoch 8/20\n",
      "7000/7000 [==============================] - 6s 897us/sample - loss: 0.0037 - val_loss: 0.0032\n",
      "Epoch 9/20\n",
      "7000/7000 [==============================] - 6s 894us/sample - loss: 0.0036 - val_loss: 0.0036\n",
      "Epoch 10/20\n",
      "7000/7000 [==============================] - 6s 906us/sample - loss: 0.0035 - val_loss: 0.0031\n",
      "Epoch 11/20\n",
      "7000/7000 [==============================] - 6s 904us/sample - loss: 0.0034 - val_loss: 0.0032\n",
      "Epoch 12/20\n",
      "7000/7000 [==============================] - 6s 906us/sample - loss: 0.0034 - val_loss: 0.0036\n",
      "Epoch 13/20\n",
      "7000/7000 [==============================] - 6s 902us/sample - loss: 0.0033 - val_loss: 0.0031\n",
      "Epoch 14/20\n",
      "7000/7000 [==============================] - 6s 902us/sample - loss: 0.0033 - val_loss: 0.0030\n",
      "Epoch 15/20\n",
      "7000/7000 [==============================] - 6s 906us/sample - loss: 0.0033 - val_loss: 0.0031\n",
      "Epoch 16/20\n",
      "7000/7000 [==============================] - 6s 927us/sample - loss: 0.0033 - val_loss: 0.0029\n",
      "Epoch 17/20\n",
      "7000/7000 [==============================] - 7s 941us/sample - loss: 0.0032 - val_loss: 0.0029\n",
      "Epoch 18/20\n",
      "7000/7000 [==============================] - 7s 934us/sample - loss: 0.0032 - val_loss: 0.0029\n",
      "Epoch 19/20\n",
      "7000/7000 [==============================] - 6s 929us/sample - loss: 0.0032 - val_loss: 0.0027\n",
      "Epoch 20/20\n",
      "7000/7000 [==============================] - 7s 954us/sample - loss: 0.0031 - val_loss: 0.0029\n"
     ]
    }
   ],
   "source": [
    "history = model.fit(X_train, y_train,\n",
    "                    epochs=20,\n",
    "                    validation_data=(X_valid, y_valid))"
   ]
  },
  {
   "cell_type": "code",
   "execution_count": 45,
   "metadata": {},
   "outputs": [
    {
     "name": "stdout",
     "output_type": "stream",
     "text": [
      "2000/2000 [==============================] - 0s 242us/sample - loss: 0.0029\n"
     ]
    },
    {
     "data": {
      "text/plain": [
       "0.002889613388106227"
      ]
     },
     "execution_count": 45,
     "metadata": {},
     "output_type": "execute_result"
    }
   ],
   "source": [
    "model.evaluate(X_valid, y_valid)"
   ]
  },
  {
   "cell_type": "code",
   "execution_count": 46,
   "metadata": {
    "scrolled": true
   },
   "outputs": [
    {
     "data": {
      "image/png": "[encoded data removed]",
      "text/plain": [
       "<matplotlib.figure.Figure at 0x7f90182999b0>"
      ]
     },
     "metadata": {},
     "output_type": "display_data"
    }
   ],
   "source": [
    "plot_learning_curves(history.history['loss'], history.history['val_loss'])\n",
    "plt.show()"
   ]
  },
  {
   "cell_type": "code",
   "execution_count": 47,
   "metadata": {},
   "outputs": [
    {
     "data": {
      "image/png": "[encoded data removed]",
      "text/plain": [
       "<matplotlib.figure.Figure at 0x7f9018299da0>"
      ]
     },
     "metadata": {},
     "output_type": "display_data"
    }
   ],
   "source": [
    "y_pred = model.predict(X_valid)\n",
    "plot_series(X_valid[0, :, 0], y_valid[0, 0], y_pred[0, 0])\n",
    "plt.show()"
   ]
  },
  {
   "cell_type": "markdown",
   "metadata": {},
   "source": [
    "### Replacing the last layer to a `Dense` layer:"
   ]
  },
  {
   "cell_type": "markdown",
   "metadata": {},
   "source": [
    "Make the second `SimpleRNN` layer return only the last output:"
   ]
  },
  {
   "cell_type": "code",
   "execution_count": 48,
   "metadata": {
    "collapsed": true
   },
   "outputs": [],
   "source": [
    "np.random.seed(42)\n",
    "tf.random.set_seed(42)"
   ]
  },
  {
   "cell_type": "code",
   "execution_count": 49,
   "metadata": {
    "collapsed": true
   },
   "outputs": [],
   "source": [
    "model = keras.models.Sequential([\n",
    "    keras.layers.SimpleRNN(20, return_sequences=True,\n",
    "                           input_shape=[None, 1]),\n",
    "    keras.layers.SimpleRNN(20),\n",
    "    keras.layers.Dense(1)\n",
    "])"
   ]
  },
  {
   "cell_type": "code",
   "execution_count": 50,
   "metadata": {
    "collapsed": true
   },
   "outputs": [],
   "source": [
    "model.compile(loss='mse',\n",
    "              optimizer='adam')"
   ]
  },
  {
   "cell_type": "code",
   "execution_count": 51,
   "metadata": {},
   "outputs": [
    {
     "name": "stdout",
     "output_type": "stream",
     "text": [
      "Train on 7000 samples, validate on 2000 samples\n",
      "Epoch 1/20\n",
      "7000/7000 [==============================] - 6s 833us/sample - loss: 0.0212 - val_loss: 0.0053\n",
      "Epoch 2/20\n",
      "7000/7000 [==============================] - 5s 669us/sample - loss: 0.0041 - val_loss: 0.0034\n",
      "Epoch 3/20\n",
      "7000/7000 [==============================] - 5s 665us/sample - loss: 0.0034 - val_loss: 0.0031\n",
      "Epoch 4/20\n",
      "7000/7000 [==============================] - 5s 643us/sample - loss: 0.0033 - val_loss: 0.0030\n",
      "Epoch 5/20\n",
      "7000/7000 [==============================] - 5s 646us/sample - loss: 0.0031 - val_loss: 0.0030\n",
      "Epoch 6/20\n",
      "7000/7000 [==============================] - 5s 644us/sample - loss: 0.0031 - val_loss: 0.0028\n",
      "Epoch 7/20\n",
      "7000/7000 [==============================] - 5s 664us/sample - loss: 0.0030 - val_loss: 0.0028\n",
      "Epoch 8/20\n",
      "7000/7000 [==============================] - 5s 656us/sample - loss: 0.0030 - val_loss: 0.0028\n",
      "Epoch 9/20\n",
      "7000/7000 [==============================] - 5s 643us/sample - loss: 0.0030 - val_loss: 0.0031\n",
      "Epoch 10/20\n",
      "7000/7000 [==============================] - 5s 649us/sample - loss: 0.0030 - val_loss: 0.0027\n",
      "Epoch 11/20\n",
      "7000/7000 [==============================] - 4s 640us/sample - loss: 0.0029 - val_loss: 0.0027\n",
      "Epoch 12/20\n",
      "7000/7000 [==============================] - 4s 637us/sample - loss: 0.0030 - val_loss: 0.0029\n",
      "Epoch 13/20\n",
      "7000/7000 [==============================] - 5s 644us/sample - loss: 0.0029 - val_loss: 0.0029\n",
      "Epoch 14/20\n",
      "7000/7000 [==============================] - 5s 645us/sample - loss: 0.0029 - val_loss: 0.0030\n",
      "Epoch 15/20\n",
      "7000/7000 [==============================] - 5s 645us/sample - loss: 0.0029 - val_loss: 0.0028\n",
      "Epoch 16/20\n",
      "7000/7000 [==============================] - 5s 655us/sample - loss: 0.0028 - val_loss: 0.0026\n",
      "Epoch 17/20\n",
      "7000/7000 [==============================] - 5s 691us/sample - loss: 0.0028 - val_loss: 0.0026\n",
      "Epoch 18/20\n",
      "7000/7000 [==============================] - 5s 686us/sample - loss: 0.0029 - val_loss: 0.0029\n",
      "Epoch 19/20\n",
      "7000/7000 [==============================] - 5s 674us/sample - loss: 0.0028 - val_loss: 0.0025\n",
      "Epoch 20/20\n",
      "7000/7000 [==============================] - 5s 667us/sample - loss: 0.0028 - val_loss: 0.0027\n"
     ]
    }
   ],
   "source": [
    "history = model.fit(X_train, y_train,\n",
    "                    epochs=20,\n",
    "                    validation_data=(X_valid, y_valid))"
   ]
  },
  {
   "cell_type": "code",
   "execution_count": 52,
   "metadata": {},
   "outputs": [
    {
     "name": "stdout",
     "output_type": "stream",
     "text": [
      "2000/2000 [==============================] - 0s 184us/sample - loss: 0.0027\n"
     ]
    },
    {
     "data": {
      "text/plain": [
       "0.0026770312264561653"
      ]
     },
     "execution_count": 52,
     "metadata": {},
     "output_type": "execute_result"
    }
   ],
   "source": [
    "model.evaluate(X_valid, y_valid)"
   ]
  },
  {
   "cell_type": "code",
   "execution_count": 54,
   "metadata": {
    "scrolled": true
   },
   "outputs": [
    {
     "data": {
      "image/png": "[encoded data removed]",
      "text/plain": [
       "<matplotlib.figure.Figure at 0x7f901a9709e8>"
      ]
     },
     "metadata": {},
     "output_type": "display_data"
    }
   ],
   "source": [
    "plot_learning_curves(history.history[\"loss\"], history.history[\"val_loss\"])\n",
    "plt.show()"
   ]
  },
  {
   "cell_type": "code",
   "execution_count": 55,
   "metadata": {},
   "outputs": [
    {
     "data": {
      "image/png": "[encoded data removed]",
      "text/plain": [
       "<matplotlib.figure.Figure at 0x7f901933cd68>"
      ]
     },
     "metadata": {},
     "output_type": "display_data"
    }
   ],
   "source": [
    "y_pred = model.predict(X_valid)\n",
    "plot_series(X_valid[0, :, 0], y_valid[0, 0], y_pred[0, 0])\n",
    "plt.show()"
   ]
  },
  {
   "cell_type": "markdown",
   "metadata": {},
   "source": [
    "## Forecasting Several Steps Ahead"
   ]
  },
  {
   "cell_type": "code",
   "execution_count": 53,
   "metadata": {
    "collapsed": true
   },
   "outputs": [],
   "source": [
    "np.random.seed(43) # not 42, as it would give the first series in the train set"
   ]
  },
  {
   "cell_type": "code",
   "execution_count": 56,
   "metadata": {
    "collapsed": true
   },
   "outputs": [],
   "source": [
    "series = generate_time_series(1, n_steps + 10)\n",
    "\n",
    "X_new, Y_new = series[:, : n_steps], series[:, n_steps :]\n",
    "X = X_new\n",
    "\n",
    "for step_ahead in range(10):\n",
    "    y_pred_one = model.predict(X[:, step_ahead :])[:, np.newaxis, :]\n",
    "    X = np.concatenate([X, y_pred_one], axis=1)\n",
    "    \n",
    "Y_pred = X[:, n_steps :]"
   ]
  },
  {
   "cell_type": "code",
   "execution_count": 57,
   "metadata": {},
   "outputs": [
    {
     "data": {
      "text/plain": [
       "(1, 10, 1)"
      ]
     },
     "execution_count": 57,
     "metadata": {},
     "output_type": "execute_result"
    }
   ],
   "source": [
    "Y_pred.shape"
   ]
  },
  {
   "cell_type": "code",
   "execution_count": 60,
   "metadata": {
    "collapsed": true
   },
   "outputs": [],
   "source": [
    "def plot_multiple_forecasts(X, Y, Y_pred):\n",
    "    n_steps = X.shape[1]\n",
    "    ahead = Y.shape[1]\n",
    "    plot_series(X[0, :, 0])\n",
    "    plt.plot(np.arange(n_steps, n_steps + ahead), Y[0, :, 0], 'ro-', label='Actual')\n",
    "    plt.plot(np.arange(n_steps, n_steps + ahead), Y_pred[0, :, 0], 'bx-', label='Forecast', markersize=10)\n",
    "    plt.axis([0, n_steps + ahead, -1, 1])\n",
    "    plt.legend(fontsize=14)"
   ]
  },
  {
   "cell_type": "code",
   "execution_count": 61,
   "metadata": {},
   "outputs": [
    {
     "name": "stdout",
     "output_type": "stream",
     "text": [
      "Saving figure forecast_ahead_plot\n"
     ]
    },
    {
     "data": {
      "image/png": "[encoded data removed]",
      "text/plain": [
       "<matplotlib.figure.Figure at 0x7f90171ee6a0>"
      ]
     },
     "metadata": {},
     "output_type": "display_data"
    }
   ],
   "source": [
    "plot_multiple_forecasts(X_new, Y_new, Y_pred)\n",
    "save_fig(\"forecast_ahead_plot\")\n",
    "plt.show()"
   ]
  },
  {
   "cell_type": "markdown",
   "metadata": {},
   "source": [
    "Now let's use this model to predict the next 10 values. We first need to regenerate the sequences with 9 more time steps."
   ]
  },
  {
   "cell_type": "code",
   "execution_count": 62,
   "metadata": {
    "collapsed": true
   },
   "outputs": [],
   "source": [
    "np.random.seed(42)\n",
    "\n",
    "n_steps = 50\n",
    "series = generate_time_series(10000, n_steps + 10)\n",
    "X_train, Y_train = series[:7000, :n_steps], series[:7000, -10:, 0]\n",
    "X_valid, Y_valid = series[7000:9000, :n_steps], series[7000:9000, -10:, 0]\n",
    "X_test, Y_test = series[9000:, :n_steps], series[9000:, -10:, 0]"
   ]
  },
  {
   "cell_type": "markdown",
   "metadata": {},
   "source": [
    "Now let's predict the next 10 values one by one:"
   ]
  },
  {
   "cell_type": "code",
   "execution_count": 63,
   "metadata": {
    "collapsed": true
   },
   "outputs": [],
   "source": [
    "X = X_valid\n",
    "\n",
    "for step_ahead in range(10):\n",
    "    y_pred_one = model.predict(X)[:, np.newaxis, :]\n",
    "    X = np.concatenate([X, y_pred_one], axis=1)\n",
    "\n",
    "Y_pred = X[:, n_steps:, 0]"
   ]
  },
  {
   "cell_type": "code",
   "execution_count": 64,
   "metadata": {},
   "outputs": [
    {
     "data": {
      "text/plain": [
       "(2000, 10)"
      ]
     },
     "execution_count": 64,
     "metadata": {},
     "output_type": "execute_result"
    }
   ],
   "source": [
    "Y_pred.shape"
   ]
  },
  {
   "cell_type": "code",
   "execution_count": 65,
   "metadata": {},
   "outputs": [
    {
     "data": {
      "text/plain": [
       "0.028548893"
      ]
     },
     "execution_count": 65,
     "metadata": {},
     "output_type": "execute_result"
    }
   ],
   "source": [
    "np.mean(keras.metrics.mean_squared_error(Y_valid, Y_pred))"
   ]
  },
  {
   "cell_type": "markdown",
   "metadata": {},
   "source": [
    "Let's compare this performance with some baselines: naive predictions and a simple linear model:"
   ]
  },
  {
   "cell_type": "code",
   "execution_count": 66,
   "metadata": {},
   "outputs": [
    {
     "data": {
      "text/plain": [
       "0.22278848"
      ]
     },
     "execution_count": 66,
     "metadata": {},
     "output_type": "execute_result"
    }
   ],
   "source": [
    "Y_naive_pred = Y_valid[:, -1:]\n",
    "np.mean(keras.metrics.mean_squared_error(Y_valid, Y_naive_pred))"
   ]
  },
  {
   "cell_type": "code",
   "execution_count": 67,
   "metadata": {},
   "outputs": [
    {
     "name": "stdout",
     "output_type": "stream",
     "text": [
      "Train on 7000 samples, validate on 2000 samples\n",
      "Epoch 1/20\n",
      "7000/7000 [==============================] - 0s 57us/sample - loss: 0.1334 - val_loss: 0.0605\n",
      "Epoch 2/20\n",
      "7000/7000 [==============================] - 0s 34us/sample - loss: 0.0498 - val_loss: 0.0424\n",
      "Epoch 3/20\n",
      "7000/7000 [==============================] - 0s 34us/sample - loss: 0.0385 - val_loss: 0.0356\n",
      "Epoch 4/20\n",
      "7000/7000 [==============================] - 0s 33us/sample - loss: 0.0332 - val_loss: 0.0313\n",
      "Epoch 5/20\n",
      "7000/7000 [==============================] - 0s 32us/sample - loss: 0.0298 - val_loss: 0.0284\n",
      "Epoch 6/20\n",
      "7000/7000 [==============================] - 0s 32us/sample - loss: 0.0274 - val_loss: 0.0264\n",
      "Epoch 7/20\n",
      "7000/7000 [==============================] - 0s 33us/sample - loss: 0.0256 - val_loss: 0.0248\n",
      "Epoch 8/20\n",
      "7000/7000 [==============================] - 0s 34us/sample - loss: 0.0244 - val_loss: 0.0239\n",
      "Epoch 9/20\n",
      "7000/7000 [==============================] - 0s 32us/sample - loss: 0.0234 - val_loss: 0.0229\n",
      "Epoch 10/20\n",
      "7000/7000 [==============================] - 0s 33us/sample - loss: 0.0226 - val_loss: 0.0223\n",
      "Epoch 11/20\n",
      "7000/7000 [==============================] - 0s 32us/sample - loss: 0.0220 - val_loss: 0.0216\n",
      "Epoch 12/20\n",
      "7000/7000 [==============================] - 0s 33us/sample - loss: 0.0215 - val_loss: 0.0213\n",
      "Epoch 13/20\n",
      "7000/7000 [==============================] - 0s 33us/sample - loss: 0.0210 - val_loss: 0.0207\n",
      "Epoch 14/20\n",
      "7000/7000 [==============================] - 0s 33us/sample - loss: 0.0207 - val_loss: 0.0204\n",
      "Epoch 15/20\n",
      "7000/7000 [==============================] - 0s 34us/sample - loss: 0.0203 - val_loss: 0.0201\n",
      "Epoch 16/20\n",
      "7000/7000 [==============================] - 0s 32us/sample - loss: 0.0199 - val_loss: 0.0196\n",
      "Epoch 17/20\n",
      "7000/7000 [==============================] - 0s 33us/sample - loss: 0.0196 - val_loss: 0.0196\n",
      "Epoch 18/20\n",
      "7000/7000 [==============================] - 0s 41us/sample - loss: 0.0194 - val_loss: 0.0191\n",
      "Epoch 19/20\n",
      "7000/7000 [==============================] - 0s 36us/sample - loss: 0.0191 - val_loss: 0.0189\n",
      "Epoch 20/20\n",
      "7000/7000 [==============================] - 0s 63us/sample - loss: 0.0188 - val_loss: 0.0188\n"
     ]
    }
   ],
   "source": [
    "np.random.seed(42)\n",
    "tf.random.set_seed(42)\n",
    "\n",
    "model = keras.models.Sequential([\n",
    "    keras.layers.Flatten(input_shape=[50, 1]),\n",
    "    keras.layers.Dense(10)\n",
    "])\n",
    "\n",
    "model.compile(loss=\"mse\", optimizer=\"adam\")\n",
    "history = model.fit(X_train, Y_train, epochs=20,\n",
    "                    validation_data=(X_valid, Y_valid))"
   ]
  },
  {
   "cell_type": "markdown",
   "metadata": {},
   "source": [
    "Now let's create an RNN that predicts all 10 next values at once:"
   ]
  },
  {
   "cell_type": "code",
   "execution_count": 68,
   "metadata": {
    "collapsed": true
   },
   "outputs": [],
   "source": [
    "np.random.seed(42)\n",
    "tf.random.set_seed(42)"
   ]
  },
  {
   "cell_type": "code",
   "execution_count": 71,
   "metadata": {
    "collapsed": true
   },
   "outputs": [],
   "source": [
    "model = keras.models.Sequential([\n",
    "    keras.layers.SimpleRNN(20, return_sequences=True,\n",
    "                           input_shape=[None, 1]),\n",
    "    keras.layers.SimpleRNN(20),\n",
    "    keras.layers.Dense(10)\n",
    "])"
   ]
  },
  {
   "cell_type": "code",
   "execution_count": 72,
   "metadata": {
    "collapsed": true
   },
   "outputs": [],
   "source": [
    "model.compile(loss='mse',\n",
    "              optimizer='adam')"
   ]
  },
  {
   "cell_type": "code",
   "execution_count": 73,
   "metadata": {},
   "outputs": [
    {
     "name": "stdout",
     "output_type": "stream",
     "text": [
      "Train on 7000 samples, validate on 2000 samples\n",
      "Epoch 1/20\n",
      "7000/7000 [==============================] - 6s 847us/sample - loss: 0.0670 - val_loss: 0.0341\n",
      "Epoch 2/20\n",
      "7000/7000 [==============================] - 5s 725us/sample - loss: 0.0267 - val_loss: 0.0195\n",
      "Epoch 3/20\n",
      "7000/7000 [==============================] - 5s 749us/sample - loss: 0.0189 - val_loss: 0.0195\n",
      "Epoch 4/20\n",
      "7000/7000 [==============================] - 5s 672us/sample - loss: 0.0152 - val_loss: 0.0129\n",
      "Epoch 5/20\n",
      "7000/7000 [==============================] - 5s 650us/sample - loss: 0.0136 - val_loss: 0.0125\n",
      "Epoch 6/20\n",
      "7000/7000 [==============================] - 5s 655us/sample - loss: 0.0126 - val_loss: 0.0128\n",
      "Epoch 7/20\n",
      "7000/7000 [==============================] - 5s 658us/sample - loss: 0.0121 - val_loss: 0.0107\n",
      "Epoch 8/20\n",
      "7000/7000 [==============================] - 5s 663us/sample - loss: 0.0112 - val_loss: 0.0109\n",
      "Epoch 9/20\n",
      "7000/7000 [==============================] - 5s 669us/sample - loss: 0.0109 - val_loss: 0.0106\n",
      "Epoch 10/20\n",
      "7000/7000 [==============================] - 5s 657us/sample - loss: 0.0114 - val_loss: 0.0100\n",
      "Epoch 11/20\n",
      "7000/7000 [==============================] - 5s 664us/sample - loss: 0.0105 - val_loss: 0.0109\n",
      "Epoch 12/20\n",
      "7000/7000 [==============================] - 5s 666us/sample - loss: 0.0104 - val_loss: 0.0095\n",
      "Epoch 13/20\n",
      "7000/7000 [==============================] - 5s 660us/sample - loss: 0.0098 - val_loss: 0.0098\n",
      "Epoch 14/20\n",
      "7000/7000 [==============================] - 5s 663us/sample - loss: 0.0099 - val_loss: 0.0104\n",
      "Epoch 15/20\n",
      "7000/7000 [==============================] - 5s 648us/sample - loss: 0.0096 - val_loss: 0.0089\n",
      "Epoch 16/20\n",
      "7000/7000 [==============================] - 5s 659us/sample - loss: 0.0096 - val_loss: 0.0088\n",
      "Epoch 17/20\n",
      "7000/7000 [==============================] - 5s 651us/sample - loss: 0.0094 - val_loss: 0.0092\n",
      "Epoch 18/20\n",
      "7000/7000 [==============================] - 5s 656us/sample - loss: 0.0090 - val_loss: 0.0083\n",
      "Epoch 19/20\n",
      "7000/7000 [==============================] - 5s 727us/sample - loss: 0.0090 - val_loss: 0.0113\n",
      "Epoch 20/20\n",
      "7000/7000 [==============================] - 5s 699us/sample - loss: 0.0098 - val_loss: 0.0082\n"
     ]
    }
   ],
   "source": [
    "history = model.fit(X_train, Y_train,\n",
    "                    epochs=20,\n",
    "                    validation_data=(X_valid, Y_valid))"
   ]
  },
  {
   "cell_type": "code",
   "execution_count": 75,
   "metadata": {
    "collapsed": true
   },
   "outputs": [],
   "source": [
    "np.random.seed(43)\n",
    "\n",
    "series = generate_time_series(1, 50 + 10)\n",
    "X_new, Y_new = series[:, :50, :], series[:, -10:, :]\n",
    "Y_pred = model.predict(X_new)[..., np.newaxis]"
   ]
  },
  {
   "cell_type": "code",
   "execution_count": 76,
   "metadata": {},
   "outputs": [
    {
     "data": {
      "image/png": "[encoded data removed]",
      "text/plain": [
       "<matplotlib.figure.Figure at 0x7f901c5995f8>"
      ]
     },
     "metadata": {},
     "output_type": "display_data"
    }
   ],
   "source": [
    "plot_multiple_forecasts(X_new, Y_new, Y_pred)\n",
    "plt.show()"
   ]
  },
  {
   "cell_type": "markdown",
   "metadata": {},
   "source": [
    "Now let's create an RNN that predicts the next 10 steps at each time step. That is, instead of just forecasting time steps 50 to 59 based on time steps 0 to 49, it will forecast time steps 1 to 10 at time step 0, then time steps 2 to 11 at time step 1, and so on, and finally it will forecast time steps 50 to 59 at the last time step. Notice that the model is causal: when it makes predictions at any time step, it can only see past time steps."
   ]
  },
  {
   "cell_type": "code",
   "execution_count": 80,
   "metadata": {
    "collapsed": true
   },
   "outputs": [],
   "source": [
    "np.random.seed(42)\n",
    "\n",
    "n_steps = 50\n",
    "series = generate_time_series(10000, n_steps + 10)\n",
    "X_train = series[:7000, :n_steps]\n",
    "X_valid = series[7000:9000, :n_steps]\n",
    "X_test = series[9000:, :n_steps]\n",
    "Y = np.empty((10000, n_steps, 10))"
   ]
  },
  {
   "cell_type": "code",
   "execution_count": 81,
   "metadata": {
    "collapsed": true
   },
   "outputs": [],
   "source": [
    "for step_ahead in range(1, 10 + 1):\n",
    "    Y[..., step_ahead - 1] = series[..., step_ahead:step_ahead + n_steps, 0]\n",
    "\n",
    "Y_train = Y[:7000]\n",
    "Y_valid = Y[7000:9000]\n",
    "Y_test = Y[9000:]"
   ]
  },
  {
   "cell_type": "code",
   "execution_count": 82,
   "metadata": {},
   "outputs": [
    {
     "data": {
      "text/plain": [
       "((7000, 50, 1), (7000, 50, 10))"
      ]
     },
     "execution_count": 82,
     "metadata": {},
     "output_type": "execute_result"
    }
   ],
   "source": [
    "X_train.shape, Y_train.shape"
   ]
  },
  {
   "cell_type": "code",
   "execution_count": 83,
   "metadata": {
    "collapsed": true
   },
   "outputs": [],
   "source": [
    "np.random.seed(42)\n",
    "tf.random.set_seed(42)"
   ]
  },
  {
   "cell_type": "code",
   "execution_count": 84,
   "metadata": {
    "collapsed": true
   },
   "outputs": [],
   "source": [
    "model = keras.models.Sequential([\n",
    "    keras.layers.SimpleRNN(20, return_sequences=True,\n",
    "                           input_shape=[None, 1]),\n",
    "    keras.layers.SimpleRNN(20, return_sequences=True),\n",
    "    keras.layers.TimeDistributed(keras.layers.Dense(10))\n",
    "])"
   ]
  },
  {
   "cell_type": "code",
   "execution_count": 85,
   "metadata": {
    "collapsed": true
   },
   "outputs": [],
   "source": [
    "def last_time_step_mse(Y_true, Y_pred):\n",
    "    return keras.metrics.mean_squared_error(Y_true[:, -1], Y_pred[:, -1])"
   ]
  },
  {
   "cell_type": "code",
   "execution_count": 86,
   "metadata": {},
   "outputs": [
    {
     "name": "stdout",
     "output_type": "stream",
     "text": [
      "Train on 7000 samples, validate on 2000 samples\n",
      "Epoch 1/20\n",
      "7000/7000 [==============================] - 6s 869us/sample - loss: 0.0505 - last_time_step_mse: 0.0395 - val_loss: 0.0422 - val_last_time_step_mse: 0.0321\n",
      "Epoch 2/20\n",
      "7000/7000 [==============================] - 6s 829us/sample - loss: 0.0408 - last_time_step_mse: 0.0306 - val_loss: 0.0421 - val_last_time_step_mse: 0.0350\n",
      "Epoch 3/20\n",
      "7000/7000 [==============================] - 5s 723us/sample - loss: 0.0376 - last_time_step_mse: 0.0291 - val_loss: 0.0345 - val_last_time_step_mse: 0.0270\n",
      "Epoch 4/20\n",
      "7000/7000 [==============================] - 5s 665us/sample - loss: 0.0317 - last_time_step_mse: 0.0216 - val_loss: 0.0277 - val_last_time_step_mse: 0.0159\n",
      "Epoch 5/20\n",
      "7000/7000 [==============================] - 5s 663us/sample - loss: 0.0278 - last_time_step_mse: 0.0162 - val_loss: 0.0269 - val_last_time_step_mse: 0.0149\n",
      "Epoch 6/20\n",
      "7000/7000 [==============================] - 5s 662us/sample - loss: 0.0242 - last_time_step_mse: 0.0118 - val_loss: 0.0212 - val_last_time_step_mse: 0.0082\n",
      "Epoch 7/20\n",
      "7000/7000 [==============================] - 5s 660us/sample - loss: 0.0224 - last_time_step_mse: 0.0100 - val_loss: 0.0208 - val_last_time_step_mse: 0.0084\n",
      "Epoch 8/20\n",
      "7000/7000 [==============================] - 5s 663us/sample - loss: 0.0211 - last_time_step_mse: 0.0087 - val_loss: 0.0208 - val_last_time_step_mse: 0.0098\n",
      "Epoch 9/20\n",
      "7000/7000 [==============================] - 5s 660us/sample - loss: 0.0202 - last_time_step_mse: 0.0078 - val_loss: 0.0218 - val_last_time_step_mse: 0.0106\n",
      "Epoch 10/20\n",
      "7000/7000 [==============================] - 5s 666us/sample - loss: 0.0198 - last_time_step_mse: 0.0076 - val_loss: 0.0195 - val_last_time_step_mse: 0.0078\n",
      "Epoch 11/20\n",
      "7000/7000 [==============================] - 5s 672us/sample - loss: 0.0196 - last_time_step_mse: 0.0074 - val_loss: 0.0187 - val_last_time_step_mse: 0.0066\n",
      "Epoch 12/20\n",
      "7000/7000 [==============================] - 5s 670us/sample - loss: 0.0193 - last_time_step_mse: 0.0072 - val_loss: 0.0189 - val_last_time_step_mse: 0.0065\n",
      "Epoch 13/20\n",
      "7000/7000 [==============================] - 5s 665us/sample - loss: 0.0189 - last_time_step_mse: 0.0069 - val_loss: 0.0185 - val_last_time_step_mse: 0.0069\n",
      "Epoch 14/20\n",
      "7000/7000 [==============================] - 5s 680us/sample - loss: 0.0193 - last_time_step_mse: 0.0075 - val_loss: 0.0194 - val_last_time_step_mse: 0.0074\n",
      "Epoch 15/20\n",
      "7000/7000 [==============================] - 5s 675us/sample - loss: 0.0187 - last_time_step_mse: 0.0069 - val_loss: 0.0181 - val_last_time_step_mse: 0.0066\n",
      "Epoch 16/20\n",
      "7000/7000 [==============================] - 5s 673us/sample - loss: 0.0190 - last_time_step_mse: 0.0073 - val_loss: 0.0179 - val_last_time_step_mse: 0.0058\n",
      "Epoch 17/20\n",
      "7000/7000 [==============================] - 5s 678us/sample - loss: 0.0187 - last_time_step_mse: 0.0069 - val_loss: 0.0177 - val_last_time_step_mse: 0.0062\n",
      "Epoch 18/20\n",
      "7000/7000 [==============================] - 5s 677us/sample - loss: 0.0182 - last_time_step_mse: 0.0066 - val_loss: 0.0184 - val_last_time_step_mse: 0.0071\n",
      "Epoch 19/20\n",
      "7000/7000 [==============================] - 5s 677us/sample - loss: 0.0182 - last_time_step_mse: 0.0065 - val_loss: 0.0182 - val_last_time_step_mse: 0.0067\n",
      "Epoch 20/20\n",
      "7000/7000 [==============================] - 5s 674us/sample - loss: 0.0181 - last_time_step_mse: 0.0066 - val_loss: 0.0202 - val_last_time_step_mse: 0.0101\n"
     ]
    }
   ],
   "source": [
    "model.compile(loss=\"mse\", optimizer=keras.optimizers.Adam(lr=0.01), metrics=[last_time_step_mse])\n",
    "\n",
    "history = model.fit(X_train, Y_train, epochs=20,\n",
    "                    validation_data=(X_valid, Y_valid))"
   ]
  },
  {
   "cell_type": "code",
   "execution_count": 87,
   "metadata": {
    "collapsed": true
   },
   "outputs": [],
   "source": [
    "np.random.seed(43)\n",
    "\n",
    "series = generate_time_series(1, 50 + 10)\n",
    "X_new, Y_new = series[:, :50, :], series[:, 50:, :]\n",
    "Y_pred = model.predict(X_new)[:, -1][..., np.newaxis]"
   ]
  },
  {
   "cell_type": "code",
   "execution_count": 88,
   "metadata": {},
   "outputs": [
    {
     "data": {
      "image/png": "[encoded data removed]",
      "text/plain": [
       "<matplotlib.figure.Figure at 0x7f901270dcc0>"
      ]
     },
     "metadata": {},
     "output_type": "display_data"
    }
   ],
   "source": [
    "plot_multiple_forecasts(X_new, Y_new, Y_pred)\n",
    "plt.show()"
   ]
  },
  {
   "cell_type": "markdown",
   "metadata": {},
   "source": [
    "## Creating a Custom RNN Class"
   ]
  },
  {
   "cell_type": "code",
   "execution_count": 90,
   "metadata": {
    "collapsed": true
   },
   "outputs": [],
   "source": [
    "class MyRNN(keras.layers.Layer):\n",
    "    \n",
    "    def __init__(self, cell, return_sequences=False, **kwargs):\n",
    "        super().__init__(**kwargs)\n",
    "        self.cell = cell\n",
    "        self.return_sequences = return_sequences\n",
    "        self.get_initial_state = getattr(\n",
    "            self.cell, 'get_initial_state', self.fallback_initial_state)\n",
    "        \n",
    "    def fallback_initial_state(self, inputs):\n",
    "        return [tf.zeros([self.cell.state_size], dtype=inputs.dtype)]\n",
    "    \n",
    "    @tf.function\n",
    "    def call(self, inputs):\n",
    "        states = self.get_initial_state(inputs)\n",
    "        n_steps = tf.shape(inputs)[1]\n",
    "        if self.return_sequences:\n",
    "            sequences = tf.TensorArray(inputs.dtype, size=n_steps)\n",
    "        outputs = tf.zeros(shape=[n_steps, self.cell.output_size], dtype=inputs.dtype)\n",
    "        for step in tf.range(n_steps):\n",
    "            outputs, states = self.cell(inputs[:, step, states])\n",
    "            if self.return_sequences:\n",
    "                sequences = sequences.write(step, outputs)\n",
    "        if self.return_sequences:\n",
    "            return sequences.stack()\n",
    "        else:\n",
    "            return outputs"
   ]
  },
  {
   "cell_type": "code",
   "execution_count": 91,
   "metadata": {
    "collapsed": true
   },
   "outputs": [],
   "source": [
    "np.random.seed(42)\n",
    "tf.random.set_seed(42)"
   ]
  },
  {
   "cell_type": "code",
   "execution_count": null,
   "metadata": {
    "collapsed": true
   },
   "outputs": [],
   "source": [
    "model = keras.models.Sequential([\n",
    "    MyRNN(LNSimpleRNNCell(20), return_sequences=True,\n",
    "          input_shape=[None, 1]),\n",
    "    MyRNN(LNSimpleRNNCell(20), return_sequences=True),\n",
    "    keras.layers.TimeDistributed(keras.layers.Dense(10))\n",
    "])\n",
    "\n",
    "model.compile(loss=\"mse\", \n",
    "              optimizer=\"adam\", \n",
    "              metrics=[last_time_step_mse])\n",
    "\n",
    "history = model.fit(X_train, Y_train, \n",
    "                    epochs=20,\n",
    "                    validation_data=(X_valid, Y_valid))"
   ]
  },
  {
   "cell_type": "markdown",
   "metadata": {},
   "source": [
    "## LSTMs"
   ]
  },
  {
   "cell_type": "code",
   "execution_count": 94,
   "metadata": {
    "collapsed": true
   },
   "outputs": [],
   "source": [
    "np.random.seed(42)\n",
    "tf.random.set_seed(42)"
   ]
  },
  {
   "cell_type": "code",
   "execution_count": 95,
   "metadata": {
    "collapsed": true
   },
   "outputs": [],
   "source": [
    "model = keras.models.Sequential([\n",
    "    keras.layers.LSTM(20, return_sequences=True,\n",
    "                      input_shape=[None, 1]),\n",
    "    keras.layers.LSTM(20, return_sequences=True),\n",
    "    keras.layers.TimeDistributed(keras.layers.Dense(10))\n",
    "])"
   ]
  },
  {
   "cell_type": "code",
   "execution_count": 96,
   "metadata": {
    "collapsed": true
   },
   "outputs": [],
   "source": [
    "model.compile(loss='mse',\n",
    "              optimizer='adam',\n",
    "              metrics=[last_time_step_mse])"
   ]
  },
  {
   "cell_type": "code",
   "execution_count": null,
   "metadata": {
    "collapsed": true
   },
   "outputs": [],
   "source": [
    "history = model.fit(X_train, y_train, \n",
    "                    epochs=20,\n",
    "                    validation_data=(X_valid, y_valid))"
   ]
  },
  {
   "cell_type": "code",
   "execution_count": null,
   "metadata": {
    "collapsed": true
   },
   "outputs": [],
   "source": [
    "model.evaluate(X_valid, Y_valid)"
   ]
  },
  {
   "cell_type": "code",
   "execution_count": null,
   "metadata": {
    "collapsed": true
   },
   "outputs": [],
   "source": [
    "plot_learning_curves(history.history[\"loss\"], history.history[\"val_loss\"])\n",
    "plt.show()"
   ]
  },
  {
   "cell_type": "code",
   "execution_count": null,
   "metadata": {
    "collapsed": true
   },
   "outputs": [],
   "source": [
    "np.random.seed(43)\n",
    "\n",
    "series = generate_time_series(1, 50 + 10)\n",
    "X_new, Y_new = series[:, :50, :], series[:, 50:, :]\n",
    "Y_pred = model.predict(X_new)[:, -1][..., np.newaxis]"
   ]
  },
  {
   "cell_type": "code",
   "execution_count": null,
   "metadata": {
    "collapsed": true
   },
   "outputs": [],
   "source": [
    "plot_multiple_forecasts(X_new, Y_new, Y_pred)\n",
    "plt.show()"
   ]
  },
  {
   "cell_type": "markdown",
   "metadata": {},
   "source": [
    "## GRUs"
   ]
  },
  {
   "cell_type": "code",
   "execution_count": 15,
   "metadata": {
    "collapsed": true
   },
   "outputs": [],
   "source": [
    "np.random.seed(42)\n",
    "tf.random.set_seed(42)"
   ]
  },
  {
   "cell_type": "code",
   "execution_count": 16,
   "metadata": {
    "collapsed": true
   },
   "outputs": [],
   "source": [
    "model = keras.models.Sequential([\n",
    "    keras.layers.GRU(20, return_sequences=True,\n",
    "                     input_shape=[None, 1]),\n",
    "    keras.layers.GRU(20, return_sequences=True),\n",
    "    keras.layers.TimeDistributed(keras.layers.Dense(10))\n",
    "])"
   ]
  },
  {
   "cell_type": "code",
   "execution_count": null,
   "metadata": {},
   "outputs": [],
   "source": [
    "model.compile(loss=\"mse\", \n",
    "              optimizer=\"adam\", \n",
    "              metrics=[last_time_step_mse])\n",
    "\n",
    "history = model.fit(X_train, Y_train, \n",
    "                    epochs=20,\n",
    "                    validation_data=(X_valid, Y_valid))"
   ]
  },
  {
   "cell_type": "code",
   "execution_count": null,
   "metadata": {
    "collapsed": true
   },
   "outputs": [],
   "source": [
    "model.evaluate(X_valid, Y_valid)"
   ]
  },
  {
   "cell_type": "code",
   "execution_count": null,
   "metadata": {
    "collapsed": true
   },
   "outputs": [],
   "source": [
    "plot_learning_curves(history.history[\"loss\"], history.history[\"val_loss\"])\n",
    "plt.show()"
   ]
  },
  {
   "cell_type": "code",
   "execution_count": null,
   "metadata": {
    "collapsed": true
   },
   "outputs": [],
   "source": [
    "np.random.seed(43)\n",
    "\n",
    "series = generate_time_series(1, 50 + 10)\n",
    "X_new, Y_new = series[:, :50, :], series[:, 50:, :]\n",
    "Y_pred = model.predict(X_new)[:, -1][..., np.newaxis]"
   ]
  },
  {
   "cell_type": "code",
   "execution_count": null,
   "metadata": {
    "collapsed": true
   },
   "outputs": [],
   "source": [
    "plot_multiple_forecasts(X_new, Y_new, Y_pred)\n",
    "plt.show()"
   ]
  },
  {
   "cell_type": "markdown",
   "metadata": {},
   "source": [
    "## Using 1D Convolutional Layer to Process Sequences"
   ]
  },
  {
   "cell_type": "markdown",
   "metadata": {},
   "source": [
    "    1D conv layer with kernel size 4, stride 2, VALID padding:\n",
    "    \n",
    "                  |-----2-----|     |-----5---...------|     |-----23----|\n",
    "            |-----1-----|     |-----4-----|   ...      |-----22----|\n",
    "      |-----0----|      |-----3-----|     |---...|-----21----|\n",
    "  \n",
    "\n",
    "    X: 0  1  2  3  4  5  6  7  8  9  10 11 12 ... 42 43 44 45 46 47 48 49\n",
    "    Y: 1  2  3  4  5  6  7  8  9  10 11 12 13 ... 43 44 45 46 47 48 49 50\n",
    "      /10 11 12 13 14 15 16 17 18 19 20 21 22 ... 52 53 54 55 56 57 58 59\n",
    "\n",
    "    Output:\n",
    "\n",
    "    X:     0/3   2/5   4/7   6/9   8/11 10/13 .../43 42/45 44/47 46/49\n",
    "    Y:     4/13  6/15  8/17 10/19 12/21 14/23 .../53 46/55 48/57 50/59"
   ]
  },
  {
   "cell_type": "code",
   "execution_count": 21,
   "metadata": {
    "collapsed": true
   },
   "outputs": [],
   "source": [
    "np.random.seed(42)\n",
    "tf.random.set_seed(42)"
   ]
  },
  {
   "cell_type": "code",
   "execution_count": 22,
   "metadata": {
    "collapsed": true
   },
   "outputs": [],
   "source": [
    "model = keras.models.Sequential([\n",
    "    keras.layers.Conv1D(filters=20,\n",
    "                        kernel_size=4,\n",
    "                        strides=2,\n",
    "                        padding='valid',\n",
    "                        input_shape=[None, 1]),\n",
    "    keras.layers.GRU(20, return_sequences=True),\n",
    "    keras.layers.GRU(20, return_sequences=True),\n",
    "    keras.layers.TimeDistributed(keras.layers.Dense(10))\n",
    "])"
   ]
  },
  {
   "cell_type": "code",
   "execution_count": 24,
   "metadata": {
    "collapsed": true
   },
   "outputs": [],
   "source": [
    "def last_time_step_mse(Y_true, Y_pred):\n",
    "    return keras.metrics.mean_squared_error(Y_true[:, -1], Y_pred[:, -1])"
   ]
  },
  {
   "cell_type": "code",
   "execution_count": 25,
   "metadata": {
    "scrolled": true
   },
   "outputs": [],
   "source": [
    "model.compile(loss=\"mse\", \n",
    "              optimizer=\"adam\", \n",
    "              metrics=[last_time_step_mse])"
   ]
  },
  {
   "cell_type": "code",
   "execution_count": null,
   "metadata": {},
   "outputs": [],
   "source": [
    "model.fit(X_train, Y_train[:, 3::2], \n",
    "          epochs=20,\n",
    "          validation_data=(X_valid, Y_valid[:, 3::2]))"
   ]
  },
  {
   "cell_type": "markdown",
   "metadata": {},
   "source": [
    "## WaveNet"
   ]
  },
  {
   "cell_type": "markdown",
   "metadata": {},
   "source": [
    "    C2  /\\ /\\ /\\ /\\ /\\ /\\ /\\ /\\ /\\ /\\ /\\ /\\ /\\.../\\ /\\ /\\ /\\ /\\ /\\\n",
    "       \\  /  \\  /  \\  /  \\  /  \\  /  \\  /  \\       /  \\  /  \\  /  \\\n",
    "         /    \\      /    \\      /    \\                 /    \\\n",
    "    C1  /\\ /\\ /\\ /\\ /\\ /\\ /\\ /\\ /\\ /\\ /\\  /\\ /.../\\ /\\ /\\ /\\ /\\ /\\ /\\\n",
    "    X: 0  1  2  3  4  5  6  7  8  9  10 11 12 ... 43 44 45 46 47 48 49\n",
    "    Y: 1  2  3  4  5  6  7  8  9  10 11 12 13 ... 44 45 46 47 48 49 50\n",
    "      /10 11 12 13 14 15 16 17 18 19 20 21 22 ... 53 54 55 56 57 58 59"
   ]
  },
  {
   "cell_type": "code",
   "execution_count": null,
   "metadata": {
    "collapsed": true
   },
   "outputs": [],
   "source": [
    "np.random.seed(42)\n",
    "tf.random.set_seed(42)\n",
    "\n",
    "model = keras.models.Sequential()\n",
    "model.add(keras.layers.InputLayer(input_shape=[None, 1]))\n",
    "\n",
    "for rate in (1, 2, 4, 8) * 2:\n",
    "    model.add(keras.layers.Conv1D(filters=20, \n",
    "                                  kernel_size=2, \n",
    "                                  padding=\"causal\",\n",
    "                                  activation=\"relu\", \n",
    "                                  dilation_rate=rate))\n",
    "    \n",
    "model.add(keras.layers.Conv1D(filters=10, kernel_size=1))\n",
    "\n",
    "model.compile(loss=\"mse\", \n",
    "              optimizer=\"adam\", \n",
    "              metrics=[last_time_step_mse])\n",
    "\n",
    "history = model.fit(X_train, Y_train, \n",
    "                    epochs=20,\n",
    "                    validation_data=(X_valid, Y_valid))"
   ]
  }
 ],
 "metadata": {
  "kernelspec": {
   "display_name": "Python 3",
   "language": "python",
   "name": "python3"
  },
  "language_info": {
   "codemirror_mode": {
    "name": "ipython",
    "version": 3
   },
   "file_extension": ".py",
   "mimetype": "text/x-python",
   "name": "python",
   "nbconvert_exporter": "python",
   "pygments_lexer": "ipython3",
   "version": "3.6.9"
  }
 },
 "nbformat": 4,
 "nbformat_minor": 2
}
